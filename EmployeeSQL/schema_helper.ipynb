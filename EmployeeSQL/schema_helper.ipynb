{
 "cells": [
  {
   "cell_type": "code",
   "execution_count": 3,
   "metadata": {},
   "outputs": [
    {
     "name": "stdout",
     "output_type": "stream",
     "text": [
      "DROP TABLE IF EXISTS titles;\n",
      "DROP TABLE IF EXISTS salaries;\n",
      "DROP TABLE IF EXISTS dept_emp;\n",
      "DROP TABLE IF EXISTS dept_manager;\n",
      "DROP TABLE IF EXISTS employees;\n",
      "DROP TABLE IF EXISTS departments;\n"
     ]
    }
   ],
   "source": [
    "list_of_tables = ['titles', 'salaries', 'dept_emp', 'dept_manager', 'employees', 'departments']\n",
    "for table in list_of_tables:\n",
    "    print(f'DROP TABLE IF EXISTS {table};')"
   ]
  },
  {
   "cell_type": "code",
   "execution_count": 19,
   "metadata": {},
   "outputs": [
    {
     "name": "stdout",
     "output_type": "stream",
     "text": [
      "COPY employees\n",
      "FROM 'D:\\BOOTCAMP\\git_repos\\sql-challenge\\data\\employees.csv'\n",
      "WITH (FORMAT CSV, HEADER);\n",
      "\n",
      "SELECT *\n",
      "FROM employees;\n",
      "\n",
      "COPY departments\n",
      "FROM 'D:\\BOOTCAMP\\git_repos\\sql-challenge\\data\\departments.csv'\n",
      "WITH (FORMAT CSV, HEADER);\n",
      "\n",
      "SELECT *\n",
      "FROM departments;\n",
      "\n",
      "COPY titles\n",
      "FROM 'D:\\BOOTCAMP\\git_repos\\sql-challenge\\data\\titles.csv'\n",
      "WITH (FORMAT CSV, HEADER);\n",
      "\n",
      "SELECT *\n",
      "FROM titles;\n",
      "\n",
      "COPY salaries\n",
      "FROM 'D:\\BOOTCAMP\\git_repos\\sql-challenge\\data\\salaries.csv'\n",
      "WITH (FORMAT CSV, HEADER);\n",
      "\n",
      "SELECT *\n",
      "FROM salaries;\n",
      "\n",
      "COPY dept_emp\n",
      "FROM 'D:\\BOOTCAMP\\git_repos\\sql-challenge\\data\\dept_emp.csv'\n",
      "WITH (FORMAT CSV, HEADER);\n",
      "\n",
      "SELECT *\n",
      "FROM dept_emp;\n",
      "\n",
      "COPY dept_manager\n",
      "FROM 'D:\\BOOTCAMP\\git_repos\\sql-challenge\\data\\dept_manager.csv'\n",
      "WITH (FORMAT CSV, HEADER);\n",
      "\n",
      "SELECT *\n",
      "FROM dept_manager;\n",
      "\n"
     ]
    }
   ],
   "source": [
    "list_of_tables = ['employees', 'departments', 'titles', 'salaries', 'dept_emp', 'dept_manager']\n",
    "for table in list_of_tables:\n",
    "    print(f\"COPY {table}\\nFROM 'D:\\BOOTCAMP\\git_repos\\sql-challenge\\data\\{table}.csv'\\nWITH (FORMAT CSV, HEADER);\\n\")\n",
    "    print(f'SELECT *\\nFROM {table};\\n')\n",
    "    \n",
    "#     break"
   ]
  },
  {
   "cell_type": "code",
   "execution_count": 1,
   "metadata": {},
   "outputs": [
    {
     "name": "stdout",
     "output_type": "stream",
     "text": [
      "COPY employees\n",
      "FROM 'PATH_TO_DATA_FOLDER\\data\\employees.csv'\n",
      "WITH (FORMAT CSV, HEADER);\n",
      "\n",
      "SELECT *\n",
      "FROM employees;\n",
      "\n",
      "COPY departments\n",
      "FROM 'PATH_TO_DATA_FOLDER\\data\\departments.csv'\n",
      "WITH (FORMAT CSV, HEADER);\n",
      "\n",
      "SELECT *\n",
      "FROM departments;\n",
      "\n",
      "COPY titles\n",
      "FROM 'PATH_TO_DATA_FOLDER\\data\\titles.csv'\n",
      "WITH (FORMAT CSV, HEADER);\n",
      "\n",
      "SELECT *\n",
      "FROM titles;\n",
      "\n",
      "COPY salaries\n",
      "FROM 'PATH_TO_DATA_FOLDER\\data\\salaries.csv'\n",
      "WITH (FORMAT CSV, HEADER);\n",
      "\n",
      "SELECT *\n",
      "FROM salaries;\n",
      "\n",
      "COPY dept_emp\n",
      "FROM 'PATH_TO_DATA_FOLDER\\data\\dept_emp.csv'\n",
      "WITH (FORMAT CSV, HEADER);\n",
      "\n",
      "SELECT *\n",
      "FROM dept_emp;\n",
      "\n",
      "COPY dept_manager\n",
      "FROM 'PATH_TO_DATA_FOLDER\\data\\dept_manager.csv'\n",
      "WITH (FORMAT CSV, HEADER);\n",
      "\n",
      "SELECT *\n",
      "FROM dept_manager;\n",
      "\n"
     ]
    }
   ],
   "source": [
    "list_of_tables = ['employees', 'departments', 'titles', 'salaries', 'dept_emp', 'dept_manager']\n",
    "for table in list_of_tables:\n",
    "    print(f\"COPY {table}\\nFROM 'PATH_TO_DATA_FOLDER\\data\\{table}.csv'\\nWITH (FORMAT CSV, HEADER);\\n\")\n",
    "    print(f'SELECT *\\nFROM {table};\\n')"
   ]
  },
  {
   "cell_type": "code",
   "execution_count": null,
   "metadata": {},
   "outputs": [],
   "source": []
  }
 ],
 "metadata": {
  "kernelspec": {
   "display_name": "Python 3",
   "language": "python",
   "name": "python3"
  },
  "language_info": {
   "codemirror_mode": {
    "name": "ipython",
    "version": 3
   },
   "file_extension": ".py",
   "mimetype": "text/x-python",
   "name": "python",
   "nbconvert_exporter": "python",
   "pygments_lexer": "ipython3",
   "version": "3.7.3"
  }
 },
 "nbformat": 4,
 "nbformat_minor": 2
}
